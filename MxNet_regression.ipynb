{
 "cells": [
  {
   "cell_type": "code",
   "execution_count": 1,
   "metadata": {
    "collapsed": true
   },
   "outputs": [],
   "source": [
    "import mxnet as mx\n",
    "import numpy as np"
   ]
  },
  {
   "cell_type": "code",
   "execution_count": 72,
   "metadata": {
    "collapsed": true
   },
   "outputs": [],
   "source": [
    "# input data\n",
    "n = 1000\n",
    "x = np.linspace(-1.0,1.0, num=n)\n",
    "y = pow(x, 2)+0.2 * np.random.rand(n)\n",
    "#x = x.reshape((n, 1))\n",
    "train_iter = mx.io.NDArrayIter(x, y, n, shuffle=True,label_name='lin_reg_label')"
   ]
  },
  {
   "cell_type": "code",
   "execution_count": 73,
   "metadata": {
    "collapsed": true
   },
   "outputs": [],
   "source": [
    "# Create the model\n",
    "X = mx.sym.Variable('data')\n",
    "net  = mx.sym.FullyConnected(data=X, name='fc1', num_hidden=100)\n",
    "net = mx.sym.Activation(data=net, act_type=\"relu\")\n",
    "net  = mx.sym.FullyConnected(data=net, num_hidden = 1)"
   ]
  },
  {
   "cell_type": "code",
   "execution_count": 74,
   "metadata": {
    "collapsed": true
   },
   "outputs": [],
   "source": [
    "# define loss and optimizer\n",
    "Y = mx.symbol.Variable('lin_reg_label')\n",
    "loss = mx.sym.LinearRegressionOutput(data=net, label=Y, name=\"lro\")\n",
    "adam = mx.optimizer.create('adam', learning_rate=0.0001)"
   ]
  },
  {
   "cell_type": "code",
   "execution_count": 75,
   "metadata": {},
   "outputs": [],
   "source": [
    "# create a trainable module \n",
    "model = mx.mod.Module(symbol=loss, data_names=['data'], label_names=['lin_reg_label'])"
   ]
  },
  {
   "cell_type": "code",
   "execution_count": 76,
   "metadata": {
    "scrolled": true
   },
   "outputs": [],
   "source": [
    "# Train\n",
    "model.fit(train_iter, None, \n",
    "          optimizer=adam,\n",
    "          num_epoch=100)\n"
   ]
  },
  {
   "cell_type": "code",
   "execution_count": 77,
   "metadata": {
    "collapsed": true
   },
   "outputs": [],
   "source": [
    "y_pred = model.predict(train_iter).asnumpy()"
   ]
  },
  {
   "cell_type": "code",
   "execution_count": 78,
   "metadata": {},
   "outputs": [
    {
     "data": {
      "image/png": "[encoded data removed]",
      "text/plain": [
       "<matplotlib.figure.Figure at 0xfda3450>"
      ]
     },
     "metadata": {},
     "output_type": "display_data"
    }
   ],
   "source": [
    "# Visualize prediction\n",
    "import matplotlib.pyplot as plt\n",
    "%matplotlib inline\n",
    "fig, ax = plt.subplots()\n",
    "ax.scatter(x, y)\n",
    "ax.scatter(x, y_pred)\n",
    "plt.show()"
   ]
  }
 ],
 "metadata": {
  "kernelspec": {
   "display_name": "Python 2",
   "language": "python",
   "name": "python2"
  },
  "language_info": {
   "codemirror_mode": {
    "name": "ipython",
    "version": 2
   },
   "file_extension": ".py",
   "mimetype": "text/x-python",
   "name": "python",
   "nbconvert_exporter": "python",
   "pygments_lexer": "ipython2",
   "version": "2.7.5"
  }
 },
 "nbformat": 4,
 "nbformat_minor": 2
}
